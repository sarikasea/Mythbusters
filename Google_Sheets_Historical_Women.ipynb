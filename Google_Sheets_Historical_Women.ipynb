{
  "nbformat": 4,
  "nbformat_minor": 0,
  "metadata": {
    "colab": {
      "provenance": [],
      "authorship_tag": "ABX9TyMG8kFCNYuhcIeYGX5UOW1n",
      "include_colab_link": true
    },
    "kernelspec": {
      "name": "python3",
      "display_name": "Python 3"
    },
    "language_info": {
      "name": "python"
    }
  },
  "cells": [
    {
      "cell_type": "markdown",
      "metadata": {
        "id": "view-in-github",
        "colab_type": "text"
      },
      "source": [
        "<a href=\"https://colab.research.google.com/github/sarikasea/Mythbusters/blob/main/Google_Sheets_Historical_Women.ipynb\" target=\"_parent\"><img src=\"https://colab.research.google.com/assets/colab-badge.svg\" alt=\"Open In Colab\"/></a>"
      ]
    },
    {
      "cell_type": "markdown",
      "source": [
        "# Import Libraries"
      ],
      "metadata": {
        "id": "qzRQAQeHf2Mv"
      }
    },
    {
      "cell_type": "code",
      "execution_count": 1,
      "metadata": {
        "colab": {
          "base_uri": "https://localhost:8080/"
        },
        "id": "CupK9jaOaCFO",
        "outputId": "9dd570e4-6eb5-407a-9fc3-508e664b7f6e"
      },
      "outputs": [
        {
          "output_type": "stream",
          "name": "stdout",
          "text": [
            "Requirement already satisfied: gspread in /usr/local/lib/python3.11/dist-packages (6.2.1)\n",
            "Requirement already satisfied: gspread_dataframe in /usr/local/lib/python3.11/dist-packages (4.0.0)\n",
            "Requirement already satisfied: google-auth>=1.12.0 in /usr/local/lib/python3.11/dist-packages (from gspread) (2.38.0)\n",
            "Requirement already satisfied: google-auth-oauthlib>=0.4.1 in /usr/local/lib/python3.11/dist-packages (from gspread) (1.2.2)\n",
            "Requirement already satisfied: pandas>=0.24.0 in /usr/local/lib/python3.11/dist-packages (from gspread_dataframe) (2.2.2)\n",
            "Requirement already satisfied: six>=1.12.0 in /usr/local/lib/python3.11/dist-packages (from gspread_dataframe) (1.17.0)\n",
            "Requirement already satisfied: cachetools<6.0,>=2.0.0 in /usr/local/lib/python3.11/dist-packages (from google-auth>=1.12.0->gspread) (5.5.2)\n",
            "Requirement already satisfied: pyasn1-modules>=0.2.1 in /usr/local/lib/python3.11/dist-packages (from google-auth>=1.12.0->gspread) (0.4.2)\n",
            "Requirement already satisfied: rsa<5,>=3.1.4 in /usr/local/lib/python3.11/dist-packages (from google-auth>=1.12.0->gspread) (4.9.1)\n",
            "Requirement already satisfied: requests-oauthlib>=0.7.0 in /usr/local/lib/python3.11/dist-packages (from google-auth-oauthlib>=0.4.1->gspread) (2.0.0)\n",
            "Requirement already satisfied: numpy>=1.23.2 in /usr/local/lib/python3.11/dist-packages (from pandas>=0.24.0->gspread_dataframe) (2.0.2)\n",
            "Requirement already satisfied: python-dateutil>=2.8.2 in /usr/local/lib/python3.11/dist-packages (from pandas>=0.24.0->gspread_dataframe) (2.9.0.post0)\n",
            "Requirement already satisfied: pytz>=2020.1 in /usr/local/lib/python3.11/dist-packages (from pandas>=0.24.0->gspread_dataframe) (2025.2)\n",
            "Requirement already satisfied: tzdata>=2022.7 in /usr/local/lib/python3.11/dist-packages (from pandas>=0.24.0->gspread_dataframe) (2025.2)\n",
            "Requirement already satisfied: pyasn1<0.7.0,>=0.6.1 in /usr/local/lib/python3.11/dist-packages (from pyasn1-modules>=0.2.1->google-auth>=1.12.0->gspread) (0.6.1)\n",
            "Requirement already satisfied: oauthlib>=3.0.0 in /usr/local/lib/python3.11/dist-packages (from requests-oauthlib>=0.7.0->google-auth-oauthlib>=0.4.1->gspread) (3.3.1)\n",
            "Requirement already satisfied: requests>=2.0.0 in /usr/local/lib/python3.11/dist-packages (from requests-oauthlib>=0.7.0->google-auth-oauthlib>=0.4.1->gspread) (2.32.3)\n",
            "Requirement already satisfied: charset-normalizer<4,>=2 in /usr/local/lib/python3.11/dist-packages (from requests>=2.0.0->requests-oauthlib>=0.7.0->google-auth-oauthlib>=0.4.1->gspread) (3.4.2)\n",
            "Requirement already satisfied: idna<4,>=2.5 in /usr/local/lib/python3.11/dist-packages (from requests>=2.0.0->requests-oauthlib>=0.7.0->google-auth-oauthlib>=0.4.1->gspread) (3.10)\n",
            "Requirement already satisfied: urllib3<3,>=1.21.1 in /usr/local/lib/python3.11/dist-packages (from requests>=2.0.0->requests-oauthlib>=0.7.0->google-auth-oauthlib>=0.4.1->gspread) (2.5.0)\n",
            "Requirement already satisfied: certifi>=2017.4.17 in /usr/local/lib/python3.11/dist-packages (from requests>=2.0.0->requests-oauthlib>=0.7.0->google-auth-oauthlib>=0.4.1->gspread) (2025.7.14)\n"
          ]
        }
      ],
      "source": [
        "!pip install --upgrade gspread gspread_dataframe\n",
        "import pandas as pd\n",
        "import gspread\n",
        "from google.oauth2.service_account import Credentials\n",
        "\n",
        "from gspread_dataframe import get_as_dataframe\n",
        "from google.colab import auth\n",
        "auth.authenticate_user()\n",
        "import gspread"
      ]
    },
    {
      "cell_type": "code",
      "source": [
        "import seaborn as sns\n",
        "import matplotlib.pyplot as plt"
      ],
      "metadata": {
        "id": "iAEO6DG8d4_e"
      },
      "execution_count": 2,
      "outputs": []
    },
    {
      "cell_type": "code",
      "source": [
        "df_women = pd.read_csv('Historical Women - V1.csv')\n",
        "df_women.shape"
      ],
      "metadata": {
        "colab": {
          "base_uri": "https://localhost:8080/"
        },
        "id": "fdgfG641g_ZI",
        "outputId": "b4a993ff-ef87-4711-ea54-db5a92d63c98"
      },
      "execution_count": 3,
      "outputs": [
        {
          "output_type": "execute_result",
          "data": {
            "text/plain": [
              "(233, 14)"
            ]
          },
          "metadata": {},
          "execution_count": 3
        }
      ]
    },
    {
      "cell_type": "code",
      "source": [
        "df_women.head()"
      ],
      "metadata": {
        "colab": {
          "base_uri": "https://localhost:8080/",
          "height": 487
        },
        "id": "p746DjSRhxcs",
        "outputId": "c13b7f2e-bb95-47c1-a55f-357a6121acab"
      },
      "execution_count": 4,
      "outputs": [
        {
          "output_type": "execute_result",
          "data": {
            "text/plain": [
              "   Article Published on Substack        Name             Era  \\\n",
              "0                            NaN  Enheduanna     23rd c. BCE   \n",
              "1                            NaN      Kubaba  24-23rd c. BCE   \n",
              "2                            NaN   Nefertiti     14th c. BCE   \n",
              "3                            NaN        Tiye     14th c. BCE   \n",
              "4                            NaN  Hatshepsut     15th c. BCE   \n",
              "\n",
              "             Era/Country Country       Region         Century  \\\n",
              "0     23rd c. BCE, Sumer   Sumer  Middle East     23rd c. BCE   \n",
              "1  24-23rd c. BCE, Sumer   Sumer  Middle East  24-23rd c. BCE   \n",
              "2     14th c. BCE, Egypt   Egypt       Africa     14th c. BCE   \n",
              "3     14th c. BCE, Egypt   Egypt       Africa     14th c. BCE   \n",
              "4     15th c. BCE, Egypt   Egypt       Africa     15th c. BCE   \n",
              "\n",
              "                              Love Life    Scientific/Political Contribution  \\\n",
              "0              Never married, priestess       First signed author, priestess   \n",
              "1                               Unknown  Only female ruler in Sumerian kings   \n",
              "2                     Married Akhenaten                 Religious revolution   \n",
              "3                 Married Amenhotep III                Queen mother, advisor   \n",
              "4  Married Thutmose II, likely Senenmut        Building, trade, stable reign   \n",
              "\n",
              "          Misunderstanding/Scandal             End of Life/Legacy  \\\n",
              "0          Forgotten for centuries            Restored as poetess   \n",
              "1                Later semi-mythic               Deified in Sumer   \n",
              "2            Disappearance mystery       Icon of beauty and power   \n",
              "3              Called too powerful           Revered posthumously   \n",
              "4  \"Usurper\", erased by successors  Restored in modern Egyptology   \n",
              "\n",
              "                    Notes for Article      Economic Reform(s) Contributed  \\\n",
              "0  Women's authorship, ritual, empire                                 NaN   \n",
              "1               Early female kingship     Irrigation works, brewing trade   \n",
              "2         Art, women in Amarna period  Religious reform, affected economy   \n",
              "3      Power as commoner/queen mother          Temples/landscape projects   \n",
              "4      Gender, legitimacy, propaganda             Trade, building reforms   \n",
              "\n",
              "  Economic Reforms  \n",
              "0               no  \n",
              "1              yes  \n",
              "2              yes  \n",
              "3              yes  \n",
              "4              yes  "
            ],
            "text/html": [
              "\n",
              "  <div id=\"df-668fbd7a-68d2-4864-bfc8-9b36fc4cb73a\" class=\"colab-df-container\">\n",
              "    <div>\n",
              "<style scoped>\n",
              "    .dataframe tbody tr th:only-of-type {\n",
              "        vertical-align: middle;\n",
              "    }\n",
              "\n",
              "    .dataframe tbody tr th {\n",
              "        vertical-align: top;\n",
              "    }\n",
              "\n",
              "    .dataframe thead th {\n",
              "        text-align: right;\n",
              "    }\n",
              "</style>\n",
              "<table border=\"1\" class=\"dataframe\">\n",
              "  <thead>\n",
              "    <tr style=\"text-align: right;\">\n",
              "      <th></th>\n",
              "      <th>Article Published on Substack</th>\n",
              "      <th>Name</th>\n",
              "      <th>Era</th>\n",
              "      <th>Era/Country</th>\n",
              "      <th>Country</th>\n",
              "      <th>Region</th>\n",
              "      <th>Century</th>\n",
              "      <th>Love Life</th>\n",
              "      <th>Scientific/Political Contribution</th>\n",
              "      <th>Misunderstanding/Scandal</th>\n",
              "      <th>End of Life/Legacy</th>\n",
              "      <th>Notes for Article</th>\n",
              "      <th>Economic Reform(s) Contributed</th>\n",
              "      <th>Economic Reforms</th>\n",
              "    </tr>\n",
              "  </thead>\n",
              "  <tbody>\n",
              "    <tr>\n",
              "      <th>0</th>\n",
              "      <td>NaN</td>\n",
              "      <td>Enheduanna</td>\n",
              "      <td>23rd c. BCE</td>\n",
              "      <td>23rd c. BCE, Sumer</td>\n",
              "      <td>Sumer</td>\n",
              "      <td>Middle East</td>\n",
              "      <td>23rd c. BCE</td>\n",
              "      <td>Never married, priestess</td>\n",
              "      <td>First signed author, priestess</td>\n",
              "      <td>Forgotten for centuries</td>\n",
              "      <td>Restored as poetess</td>\n",
              "      <td>Women's authorship, ritual, empire</td>\n",
              "      <td>NaN</td>\n",
              "      <td>no</td>\n",
              "    </tr>\n",
              "    <tr>\n",
              "      <th>1</th>\n",
              "      <td>NaN</td>\n",
              "      <td>Kubaba</td>\n",
              "      <td>24-23rd c. BCE</td>\n",
              "      <td>24-23rd c. BCE, Sumer</td>\n",
              "      <td>Sumer</td>\n",
              "      <td>Middle East</td>\n",
              "      <td>24-23rd c. BCE</td>\n",
              "      <td>Unknown</td>\n",
              "      <td>Only female ruler in Sumerian kings</td>\n",
              "      <td>Later semi-mythic</td>\n",
              "      <td>Deified in Sumer</td>\n",
              "      <td>Early female kingship</td>\n",
              "      <td>Irrigation works, brewing trade</td>\n",
              "      <td>yes</td>\n",
              "    </tr>\n",
              "    <tr>\n",
              "      <th>2</th>\n",
              "      <td>NaN</td>\n",
              "      <td>Nefertiti</td>\n",
              "      <td>14th c. BCE</td>\n",
              "      <td>14th c. BCE, Egypt</td>\n",
              "      <td>Egypt</td>\n",
              "      <td>Africa</td>\n",
              "      <td>14th c. BCE</td>\n",
              "      <td>Married Akhenaten</td>\n",
              "      <td>Religious revolution</td>\n",
              "      <td>Disappearance mystery</td>\n",
              "      <td>Icon of beauty and power</td>\n",
              "      <td>Art, women in Amarna period</td>\n",
              "      <td>Religious reform, affected economy</td>\n",
              "      <td>yes</td>\n",
              "    </tr>\n",
              "    <tr>\n",
              "      <th>3</th>\n",
              "      <td>NaN</td>\n",
              "      <td>Tiye</td>\n",
              "      <td>14th c. BCE</td>\n",
              "      <td>14th c. BCE, Egypt</td>\n",
              "      <td>Egypt</td>\n",
              "      <td>Africa</td>\n",
              "      <td>14th c. BCE</td>\n",
              "      <td>Married Amenhotep III</td>\n",
              "      <td>Queen mother, advisor</td>\n",
              "      <td>Called too powerful</td>\n",
              "      <td>Revered posthumously</td>\n",
              "      <td>Power as commoner/queen mother</td>\n",
              "      <td>Temples/landscape projects</td>\n",
              "      <td>yes</td>\n",
              "    </tr>\n",
              "    <tr>\n",
              "      <th>4</th>\n",
              "      <td>NaN</td>\n",
              "      <td>Hatshepsut</td>\n",
              "      <td>15th c. BCE</td>\n",
              "      <td>15th c. BCE, Egypt</td>\n",
              "      <td>Egypt</td>\n",
              "      <td>Africa</td>\n",
              "      <td>15th c. BCE</td>\n",
              "      <td>Married Thutmose II, likely Senenmut</td>\n",
              "      <td>Building, trade, stable reign</td>\n",
              "      <td>\"Usurper\", erased by successors</td>\n",
              "      <td>Restored in modern Egyptology</td>\n",
              "      <td>Gender, legitimacy, propaganda</td>\n",
              "      <td>Trade, building reforms</td>\n",
              "      <td>yes</td>\n",
              "    </tr>\n",
              "  </tbody>\n",
              "</table>\n",
              "</div>\n",
              "    <div class=\"colab-df-buttons\">\n",
              "\n",
              "  <div class=\"colab-df-container\">\n",
              "    <button class=\"colab-df-convert\" onclick=\"convertToInteractive('df-668fbd7a-68d2-4864-bfc8-9b36fc4cb73a')\"\n",
              "            title=\"Convert this dataframe to an interactive table.\"\n",
              "            style=\"display:none;\">\n",
              "\n",
              "  <svg xmlns=\"http://www.w3.org/2000/svg\" height=\"24px\" viewBox=\"0 -960 960 960\">\n",
              "    <path d=\"M120-120v-720h720v720H120Zm60-500h600v-160H180v160Zm220 220h160v-160H400v160Zm0 220h160v-160H400v160ZM180-400h160v-160H180v160Zm440 0h160v-160H620v160ZM180-180h160v-160H180v160Zm440 0h160v-160H620v160Z\"/>\n",
              "  </svg>\n",
              "    </button>\n",
              "\n",
              "  <style>\n",
              "    .colab-df-container {\n",
              "      display:flex;\n",
              "      gap: 12px;\n",
              "    }\n",
              "\n",
              "    .colab-df-convert {\n",
              "      background-color: #E8F0FE;\n",
              "      border: none;\n",
              "      border-radius: 50%;\n",
              "      cursor: pointer;\n",
              "      display: none;\n",
              "      fill: #1967D2;\n",
              "      height: 32px;\n",
              "      padding: 0 0 0 0;\n",
              "      width: 32px;\n",
              "    }\n",
              "\n",
              "    .colab-df-convert:hover {\n",
              "      background-color: #E2EBFA;\n",
              "      box-shadow: 0px 1px 2px rgba(60, 64, 67, 0.3), 0px 1px 3px 1px rgba(60, 64, 67, 0.15);\n",
              "      fill: #174EA6;\n",
              "    }\n",
              "\n",
              "    .colab-df-buttons div {\n",
              "      margin-bottom: 4px;\n",
              "    }\n",
              "\n",
              "    [theme=dark] .colab-df-convert {\n",
              "      background-color: #3B4455;\n",
              "      fill: #D2E3FC;\n",
              "    }\n",
              "\n",
              "    [theme=dark] .colab-df-convert:hover {\n",
              "      background-color: #434B5C;\n",
              "      box-shadow: 0px 1px 3px 1px rgba(0, 0, 0, 0.15);\n",
              "      filter: drop-shadow(0px 1px 2px rgba(0, 0, 0, 0.3));\n",
              "      fill: #FFFFFF;\n",
              "    }\n",
              "  </style>\n",
              "\n",
              "    <script>\n",
              "      const buttonEl =\n",
              "        document.querySelector('#df-668fbd7a-68d2-4864-bfc8-9b36fc4cb73a button.colab-df-convert');\n",
              "      buttonEl.style.display =\n",
              "        google.colab.kernel.accessAllowed ? 'block' : 'none';\n",
              "\n",
              "      async function convertToInteractive(key) {\n",
              "        const element = document.querySelector('#df-668fbd7a-68d2-4864-bfc8-9b36fc4cb73a');\n",
              "        const dataTable =\n",
              "          await google.colab.kernel.invokeFunction('convertToInteractive',\n",
              "                                                    [key], {});\n",
              "        if (!dataTable) return;\n",
              "\n",
              "        const docLinkHtml = 'Like what you see? Visit the ' +\n",
              "          '<a target=\"_blank\" href=https://colab.research.google.com/notebooks/data_table.ipynb>data table notebook</a>'\n",
              "          + ' to learn more about interactive tables.';\n",
              "        element.innerHTML = '';\n",
              "        dataTable['output_type'] = 'display_data';\n",
              "        await google.colab.output.renderOutput(dataTable, element);\n",
              "        const docLink = document.createElement('div');\n",
              "        docLink.innerHTML = docLinkHtml;\n",
              "        element.appendChild(docLink);\n",
              "      }\n",
              "    </script>\n",
              "  </div>\n",
              "\n",
              "\n",
              "    <div id=\"df-87f4531b-ef1c-47b9-bcce-e1455b18ff5a\">\n",
              "      <button class=\"colab-df-quickchart\" onclick=\"quickchart('df-87f4531b-ef1c-47b9-bcce-e1455b18ff5a')\"\n",
              "                title=\"Suggest charts\"\n",
              "                style=\"display:none;\">\n",
              "\n",
              "<svg xmlns=\"http://www.w3.org/2000/svg\" height=\"24px\"viewBox=\"0 0 24 24\"\n",
              "     width=\"24px\">\n",
              "    <g>\n",
              "        <path d=\"M19 3H5c-1.1 0-2 .9-2 2v14c0 1.1.9 2 2 2h14c1.1 0 2-.9 2-2V5c0-1.1-.9-2-2-2zM9 17H7v-7h2v7zm4 0h-2V7h2v10zm4 0h-2v-4h2v4z\"/>\n",
              "    </g>\n",
              "</svg>\n",
              "      </button>\n",
              "\n",
              "<style>\n",
              "  .colab-df-quickchart {\n",
              "      --bg-color: #E8F0FE;\n",
              "      --fill-color: #1967D2;\n",
              "      --hover-bg-color: #E2EBFA;\n",
              "      --hover-fill-color: #174EA6;\n",
              "      --disabled-fill-color: #AAA;\n",
              "      --disabled-bg-color: #DDD;\n",
              "  }\n",
              "\n",
              "  [theme=dark] .colab-df-quickchart {\n",
              "      --bg-color: #3B4455;\n",
              "      --fill-color: #D2E3FC;\n",
              "      --hover-bg-color: #434B5C;\n",
              "      --hover-fill-color: #FFFFFF;\n",
              "      --disabled-bg-color: #3B4455;\n",
              "      --disabled-fill-color: #666;\n",
              "  }\n",
              "\n",
              "  .colab-df-quickchart {\n",
              "    background-color: var(--bg-color);\n",
              "    border: none;\n",
              "    border-radius: 50%;\n",
              "    cursor: pointer;\n",
              "    display: none;\n",
              "    fill: var(--fill-color);\n",
              "    height: 32px;\n",
              "    padding: 0;\n",
              "    width: 32px;\n",
              "  }\n",
              "\n",
              "  .colab-df-quickchart:hover {\n",
              "    background-color: var(--hover-bg-color);\n",
              "    box-shadow: 0 1px 2px rgba(60, 64, 67, 0.3), 0 1px 3px 1px rgba(60, 64, 67, 0.15);\n",
              "    fill: var(--button-hover-fill-color);\n",
              "  }\n",
              "\n",
              "  .colab-df-quickchart-complete:disabled,\n",
              "  .colab-df-quickchart-complete:disabled:hover {\n",
              "    background-color: var(--disabled-bg-color);\n",
              "    fill: var(--disabled-fill-color);\n",
              "    box-shadow: none;\n",
              "  }\n",
              "\n",
              "  .colab-df-spinner {\n",
              "    border: 2px solid var(--fill-color);\n",
              "    border-color: transparent;\n",
              "    border-bottom-color: var(--fill-color);\n",
              "    animation:\n",
              "      spin 1s steps(1) infinite;\n",
              "  }\n",
              "\n",
              "  @keyframes spin {\n",
              "    0% {\n",
              "      border-color: transparent;\n",
              "      border-bottom-color: var(--fill-color);\n",
              "      border-left-color: var(--fill-color);\n",
              "    }\n",
              "    20% {\n",
              "      border-color: transparent;\n",
              "      border-left-color: var(--fill-color);\n",
              "      border-top-color: var(--fill-color);\n",
              "    }\n",
              "    30% {\n",
              "      border-color: transparent;\n",
              "      border-left-color: var(--fill-color);\n",
              "      border-top-color: var(--fill-color);\n",
              "      border-right-color: var(--fill-color);\n",
              "    }\n",
              "    40% {\n",
              "      border-color: transparent;\n",
              "      border-right-color: var(--fill-color);\n",
              "      border-top-color: var(--fill-color);\n",
              "    }\n",
              "    60% {\n",
              "      border-color: transparent;\n",
              "      border-right-color: var(--fill-color);\n",
              "    }\n",
              "    80% {\n",
              "      border-color: transparent;\n",
              "      border-right-color: var(--fill-color);\n",
              "      border-bottom-color: var(--fill-color);\n",
              "    }\n",
              "    90% {\n",
              "      border-color: transparent;\n",
              "      border-bottom-color: var(--fill-color);\n",
              "    }\n",
              "  }\n",
              "</style>\n",
              "\n",
              "      <script>\n",
              "        async function quickchart(key) {\n",
              "          const quickchartButtonEl =\n",
              "            document.querySelector('#' + key + ' button');\n",
              "          quickchartButtonEl.disabled = true;  // To prevent multiple clicks.\n",
              "          quickchartButtonEl.classList.add('colab-df-spinner');\n",
              "          try {\n",
              "            const charts = await google.colab.kernel.invokeFunction(\n",
              "                'suggestCharts', [key], {});\n",
              "          } catch (error) {\n",
              "            console.error('Error during call to suggestCharts:', error);\n",
              "          }\n",
              "          quickchartButtonEl.classList.remove('colab-df-spinner');\n",
              "          quickchartButtonEl.classList.add('colab-df-quickchart-complete');\n",
              "        }\n",
              "        (() => {\n",
              "          let quickchartButtonEl =\n",
              "            document.querySelector('#df-87f4531b-ef1c-47b9-bcce-e1455b18ff5a button');\n",
              "          quickchartButtonEl.style.display =\n",
              "            google.colab.kernel.accessAllowed ? 'block' : 'none';\n",
              "        })();\n",
              "      </script>\n",
              "    </div>\n",
              "\n",
              "    </div>\n",
              "  </div>\n"
            ],
            "application/vnd.google.colaboratory.intrinsic+json": {
              "type": "dataframe",
              "variable_name": "df_women",
              "summary": "{\n  \"name\": \"df_women\",\n  \"rows\": 233,\n  \"fields\": [\n    {\n      \"column\": \"Article Published on Substack\",\n      \"properties\": {\n        \"dtype\": \"number\",\n        \"std\": null,\n        \"min\": null,\n        \"max\": null,\n        \"num_unique_values\": 0,\n        \"samples\": [],\n        \"semantic_type\": \"\",\n        \"description\": \"\"\n      }\n    },\n    {\n      \"column\": \"Name\",\n      \"properties\": {\n        \"dtype\": \"string\",\n        \"num_unique_values\": 204,\n        \"samples\": [],\n        \"semantic_type\": \"\",\n        \"description\": \"\"\n      }\n    },\n    {\n      \"column\": \"Era\",\n      \"properties\": {\n        \"dtype\": \"category\",\n        \"num_unique_values\": 47,\n        \"samples\": [],\n        \"semantic_type\": \"\",\n        \"description\": \"\"\n      }\n    },\n    {\n      \"column\": \"Era/Country\",\n      \"properties\": {\n        \"dtype\": \"string\",\n        \"num_unique_values\": 163,\n        \"samples\": [],\n        \"semantic_type\": \"\",\n        \"description\": \"\"\n      }\n    },\n    {\n      \"column\": \"Country\",\n      \"properties\": {\n        \"dtype\": \"category\",\n        \"num_unique_values\": 91,\n        \"samples\": [],\n        \"semantic_type\": \"\",\n        \"description\": \"\"\n      }\n    },\n    {\n      \"column\": \"Region\",\n      \"properties\": {\n        \"dtype\": \"category\",\n        \"num_unique_values\": 13,\n        \"samples\": [],\n        \"semantic_type\": \"\",\n        \"description\": \"\"\n      }\n    },\n    {\n      \"column\": \"Century\",\n      \"properties\": {\n        \"dtype\": \"category\",\n        \"num_unique_values\": 47,\n        \"samples\": [],\n        \"semantic_type\": \"\",\n        \"description\": \"\"\n      }\n    },\n    {\n      \"column\": \"Love Life\",\n      \"properties\": {\n        \"dtype\": \"string\",\n        \"num_unique_values\": 201,\n        \"samples\": [],\n        \"semantic_type\": \"\",\n        \"description\": \"\"\n      }\n    },\n    {\n      \"column\": \"Scientific/Political Contribution\",\n      \"properties\": {\n        \"dtype\": \"string\",\n        \"num_unique_values\": 229,\n        \"samples\": [],\n        \"semantic_type\": \"\",\n        \"description\": \"\"\n      }\n    },\n    {\n      \"column\": \"Misunderstanding/Scandal\",\n      \"properties\": {\n        \"dtype\": \"string\",\n        \"num_unique_values\": 233,\n        \"samples\": [],\n        \"semantic_type\": \"\",\n        \"description\": \"\"\n      }\n    },\n    {\n      \"column\": \"End of Life/Legacy\",\n      \"properties\": {\n        \"dtype\": \"string\",\n        \"num_unique_values\": 231,\n        \"samples\": [],\n        \"semantic_type\": \"\",\n        \"description\": \"\"\n      }\n    },\n    {\n      \"column\": \"Notes for Article\",\n      \"properties\": {\n        \"dtype\": \"string\",\n        \"num_unique_values\": 233,\n        \"samples\": [],\n        \"semantic_type\": \"\",\n        \"description\": \"\"\n      }\n    },\n    {\n      \"column\": \"Economic Reform(s) Contributed\",\n      \"properties\": {\n        \"dtype\": \"string\",\n        \"num_unique_values\": 117,\n        \"samples\": [],\n        \"semantic_type\": \"\",\n        \"description\": \"\"\n      }\n    },\n    {\n      \"column\": \"Economic Reforms\",\n      \"properties\": {\n        \"dtype\": \"category\",\n        \"num_unique_values\": 2,\n        \"samples\": [],\n        \"semantic_type\": \"\",\n        \"description\": \"\"\n      }\n    }\n  ]\n}"
            }
          },
          "metadata": {},
          "execution_count": 4
        }
      ]
    },
    {
      "cell_type": "code",
      "source": [
        "import matplotlib.pyplot as plt\n",
        "print(plt.colormaps())"
      ],
      "metadata": {
        "colab": {
          "base_uri": "https://localhost:8080/"
        },
        "id": "7fPgtK4bfR5n",
        "outputId": "19942f27-1c52-4785-c9d9-99504d804e85"
      },
      "execution_count": 5,
      "outputs": [
        {
          "output_type": "stream",
          "name": "stdout",
          "text": [
            "['magma', 'inferno', 'plasma', 'viridis', 'cividis', 'twilight', 'twilight_shifted', 'turbo', 'berlin', 'managua', 'vanimo', 'Blues', 'BrBG', 'BuGn', 'BuPu', 'CMRmap', 'GnBu', 'Greens', 'Greys', 'OrRd', 'Oranges', 'PRGn', 'PiYG', 'PuBu', 'PuBuGn', 'PuOr', 'PuRd', 'Purples', 'RdBu', 'RdGy', 'RdPu', 'RdYlBu', 'RdYlGn', 'Reds', 'Spectral', 'Wistia', 'YlGn', 'YlGnBu', 'YlOrBr', 'YlOrRd', 'afmhot', 'autumn', 'binary', 'bone', 'brg', 'bwr', 'cool', 'coolwarm', 'copper', 'cubehelix', 'flag', 'gist_earth', 'gist_gray', 'gist_heat', 'gist_ncar', 'gist_rainbow', 'gist_stern', 'gist_yarg', 'gnuplot', 'gnuplot2', 'gray', 'hot', 'hsv', 'jet', 'nipy_spectral', 'ocean', 'pink', 'prism', 'rainbow', 'seismic', 'spring', 'summer', 'terrain', 'winter', 'Accent', 'Dark2', 'Paired', 'Pastel1', 'Pastel2', 'Set1', 'Set2', 'Set3', 'tab10', 'tab20', 'tab20b', 'tab20c', 'grey', 'gist_grey', 'gist_yerg', 'Grays', 'magma_r', 'inferno_r', 'plasma_r', 'viridis_r', 'cividis_r', 'twilight_r', 'twilight_shifted_r', 'turbo_r', 'berlin_r', 'managua_r', 'vanimo_r', 'Blues_r', 'BrBG_r', 'BuGn_r', 'BuPu_r', 'CMRmap_r', 'GnBu_r', 'Greens_r', 'Greys_r', 'OrRd_r', 'Oranges_r', 'PRGn_r', 'PiYG_r', 'PuBu_r', 'PuBuGn_r', 'PuOr_r', 'PuRd_r', 'Purples_r', 'RdBu_r', 'RdGy_r', 'RdPu_r', 'RdYlBu_r', 'RdYlGn_r', 'Reds_r', 'Spectral_r', 'Wistia_r', 'YlGn_r', 'YlGnBu_r', 'YlOrBr_r', 'YlOrRd_r', 'afmhot_r', 'autumn_r', 'binary_r', 'bone_r', 'brg_r', 'bwr_r', 'cool_r', 'coolwarm_r', 'copper_r', 'cubehelix_r', 'flag_r', 'gist_earth_r', 'gist_gray_r', 'gist_heat_r', 'gist_ncar_r', 'gist_rainbow_r', 'gist_stern_r', 'gist_yarg_r', 'gnuplot_r', 'gnuplot2_r', 'gray_r', 'hot_r', 'hsv_r', 'jet_r', 'nipy_spectral_r', 'ocean_r', 'pink_r', 'prism_r', 'rainbow_r', 'seismic_r', 'spring_r', 'summer_r', 'terrain_r', 'winter_r', 'Accent_r', 'Dark2_r', 'Paired_r', 'Pastel1_r', 'Pastel2_r', 'Set1_r', 'Set2_r', 'Set3_r', 'tab10_r', 'tab20_r', 'tab20b_r', 'tab20c_r', 'grey_r', 'gist_grey_r', 'gist_yerg_r', 'Grays_r', 'rocket', 'rocket_r', 'mako', 'mako_r', 'icefire', 'icefire_r', 'vlag', 'vlag_r', 'flare', 'flare_r', 'crest', 'crest_r']\n"
          ]
        }
      ]
    },
    {
      "cell_type": "markdown",
      "source": [
        "## Authenticate and connect to your Google account:\n"
      ],
      "metadata": {
        "id": "NDBdb2mvbWbb"
      }
    },
    {
      "cell_type": "code",
      "source": [
        "from google.auth import default\n",
        "creds, _ = default()\n",
        "gc = gspread.authorize(creds)\n"
      ],
      "metadata": {
        "id": "WOaiZqZlbU0X"
      },
      "execution_count": 6,
      "outputs": []
    },
    {
      "cell_type": "markdown",
      "source": [
        "# Load Google Sheet by name or URL"
      ],
      "metadata": {
        "id": "XZGjba4lbcff"
      }
    },
    {
      "cell_type": "code",
      "source": [
        "#sheet = gc.open('Historical Women').worksheet('valuesonly')\n",
        "#df = get_as_dataframe(sheet)\n",
        "\n",
        "#df.shape\n"
      ],
      "metadata": {
        "id": "zOy7fp4-bfsZ"
      },
      "execution_count": 7,
      "outputs": []
    },
    {
      "cell_type": "code",
      "source": [
        "#df.head()"
      ],
      "metadata": {
        "id": "TIvgcI6nFJyf"
      },
      "execution_count": 8,
      "outputs": []
    },
    {
      "cell_type": "markdown",
      "source": [
        "# Exploratory Data Analysis"
      ],
      "metadata": {
        "id": "9bTdRzUDMeeZ"
      }
    },
    {
      "cell_type": "markdown",
      "source": [
        "# Streamlit Integration"
      ],
      "metadata": {
        "id": "Qf44k13EjJda"
      }
    },
    {
      "cell_type": "code",
      "source": [
        "!pip install -q streamlit ngrok plotly pandas pyngrok\n"
      ],
      "metadata": {
        "id": "rbRE6_d5jMIR"
      },
      "execution_count": 9,
      "outputs": []
    },
    {
      "cell_type": "code",
      "source": [
        "import streamlit as st\n",
        "import pandas as pd\n",
        "import plotly.express as px\n",
        "\n",
        "# Assume historical women data is loaded as df_women\n",
        "# Example: df_women = pd.read_csv(\"historical_women.csv\")\n",
        "\n",
        "st.set_page_config(layout=\"wide\")\n",
        "st.title(\"Historical Women Dataset Explorer\")\n",
        "\n",
        "st.dataframe(df_women)\n",
        "\n",
        "st.subheader(\"Summary Statistics\")\n",
        "st.write(df_women.describe())\n",
        "\n",
        "numeric_cols = df_women.select_dtypes(include='number').columns\n",
        "if len(numeric_cols) > 1:\n",
        "    x_axis = st.selectbox(\"X axis\", numeric_cols)\n",
        "    y_axis = st.selectbox(\"Y axis\", numeric_cols, index=1)\n",
        "    fig = px.scatter(df_women, x=x_axis, y=y_axis)\n",
        "    st.plotly_chart(fig)\n",
        "else:\n",
        "    st.write(\"Not enough numeric columns to plot.\")"
      ],
      "metadata": {
        "colab": {
          "base_uri": "https://localhost:8080/"
        },
        "id": "WtIoL8LLGu4m",
        "outputId": "dc594da8-f8eb-46a5-85db-cde77886f17a"
      },
      "execution_count": 10,
      "outputs": [
        {
          "output_type": "stream",
          "name": "stderr",
          "text": [
            "2025-07-30 04:13:51.654 WARNING streamlit.runtime.scriptrunner_utils.script_run_context: Thread 'MainThread': missing ScriptRunContext! This warning can be ignored when running in bare mode.\n",
            "2025-07-30 04:13:51.664 WARNING streamlit.runtime.scriptrunner_utils.script_run_context: Thread 'MainThread': missing ScriptRunContext! This warning can be ignored when running in bare mode.\n",
            "2025-07-30 04:13:52.197 \n",
            "  \u001b[33m\u001b[1mWarning:\u001b[0m to view this Streamlit app on a browser, run it with the following\n",
            "  command:\n",
            "\n",
            "    streamlit run /usr/local/lib/python3.11/dist-packages/colab_kernel_launcher.py [ARGUMENTS]\n",
            "2025-07-30 04:13:52.198 Thread 'MainThread': missing ScriptRunContext! This warning can be ignored when running in bare mode.\n",
            "2025-07-30 04:13:52.207 Thread 'MainThread': missing ScriptRunContext! This warning can be ignored when running in bare mode.\n",
            "2025-07-30 04:13:52.220 Thread 'MainThread': missing ScriptRunContext! This warning can be ignored when running in bare mode.\n",
            "2025-07-30 04:13:52.223 Thread 'MainThread': missing ScriptRunContext! This warning can be ignored when running in bare mode.\n",
            "2025-07-30 04:13:52.228 Thread 'MainThread': missing ScriptRunContext! This warning can be ignored when running in bare mode.\n",
            "2025-07-30 04:13:52.232 Thread 'MainThread': missing ScriptRunContext! This warning can be ignored when running in bare mode.\n",
            "2025-07-30 04:13:52.233 Thread 'MainThread': missing ScriptRunContext! This warning can be ignored when running in bare mode.\n",
            "2025-07-30 04:13:52.233 Thread 'MainThread': missing ScriptRunContext! This warning can be ignored when running in bare mode.\n",
            "2025-07-30 04:13:52.250 Thread 'MainThread': missing ScriptRunContext! This warning can be ignored when running in bare mode.\n",
            "2025-07-30 04:13:52.255 Thread 'MainThread': missing ScriptRunContext! This warning can be ignored when running in bare mode.\n",
            "2025-07-30 04:13:52.258 Thread 'MainThread': missing ScriptRunContext! This warning can be ignored when running in bare mode.\n",
            "2025-07-30 04:13:52.262 Thread 'MainThread': missing ScriptRunContext! This warning can be ignored when running in bare mode.\n",
            "2025-07-30 04:13:52.264 Thread 'MainThread': missing ScriptRunContext! This warning can be ignored when running in bare mode.\n",
            "2025-07-30 04:13:52.265 Thread 'MainThread': missing ScriptRunContext! This warning can be ignored when running in bare mode.\n"
          ]
        }
      ]
    },
    {
      "cell_type": "code",
      "source": [
        "!mkdir hello-ngrok\n",
        "!cd hello-ngrok"
      ],
      "metadata": {
        "colab": {
          "base_uri": "https://localhost:8080/"
        },
        "id": "s3ub_QtHa5Ps",
        "outputId": "764d351f-4fb9-48f6-b811-0f318da133b5"
      },
      "execution_count": 11,
      "outputs": [
        {
          "output_type": "stream",
          "name": "stdout",
          "text": [
            "mkdir: cannot create directory ‘hello-ngrok’: File exists\n"
          ]
        }
      ]
    },
    {
      "cell_type": "code",
      "source": [
        "# Create a new entry file: example.py\n",
        "# !touch example.py\n",
        "# Then write content into it.\n",
        "# A better way in Colab is to directly write the content using %%writefile magic command.\n",
        "\n",
        "#%%writefile hello-ngrok/example.py\n",
        "#!/usr/bin/env python\n",
        "\n",
        "#from http.server import HTTPServer, BaseHTTPRequestHandler\n",
        "#import logging, ngrok\n",
        "\n",
        "#class HelloHandler(BaseHTTPRequestHandler):\n",
        "#    def do_GET(self):\n",
        "#        body = b\"Hello\"\n",
        "#        self.protocol_version = \"HTTP/1.1\"\n",
        "#        self.send_response(200)\n",
        "#        self.send_header(\"Content-Length\", str(len(body)))\n",
        "#        self.end_headers()\n",
        "#        self.wfile.write(body)\n",
        "\n",
        "#logging.basicConfig(level=logging.INFO)\n",
        "\n",
        "# Create the server and attach ngrok\n",
        "#server = HTTPServer((\"localhost\", 0), HelloHandler)\n",
        "#ngrok.listen(server)\n",
        "\n",
        "#try:\n",
        "#    logging.info(\"Starting server. Press Ctrl+C to stop.\")\n",
        "#    server.serve_forever()\n",
        "#except KeyboardInterrupt:\n",
        "#    logging.info(\"Shutting down server...\")\n",
        "#    server.server_close()\n",
        "#    ngrok.kill()\n",
        "#    logging.info(\"Server stopped cleanly.\")"
      ],
      "metadata": {
        "id": "weN1FW3Ray91"
      },
      "execution_count": 12,
      "outputs": []
    },
    {
      "cell_type": "code",
      "source": [
        "import os\n",
        "from pyngrok import ngrok\n",
        "import threading\n",
        "import time\n",
        "\n",
        "from google.colab import userdata\n",
        "\n",
        "# Set ngrok authtoken (must be in Colab Secrets)\n",
        "ngrok_authtoken = userdata.get('NGROK_AUTHTOKEN')\n",
        "if ngrok_authtoken is None:\n",
        "    raise ValueError(\"NGROK_AUTHTOKEN not found in Colab Secrets. Please add it.\")\n",
        "os.environ[\"NGROK_AUTHTOKEN\"] = ngrok_authtoken\n",
        "\n",
        "# Write the streamlit app to a file\n",
        "with open(\"streamlit_app.py\", \"w\") as f:\n",
        "    f.write(\"\"\"\n",
        "import streamlit as st\n",
        "import pandas as pd\n",
        "import plotly.express as px\n",
        "\n",
        "# Assume historical women data is loaded as df_women\n",
        "# In a real app, you'd load this from a file or database\n",
        "sheet = gc.open('Historical Women').worksheet('valuesonly')\n",
        "df_women = get_as_dataframe(sheet)\n",
        "\n",
        "\n",
        "st.set_page_config(layout=\"wide\")\n",
        "st.title(\"Historical Women Dataset Explorer\")\n",
        "\n",
        "st.dataframe(df_women)\n",
        "\n",
        "st.subheader(\"Summary Statistics\")\n",
        "st.write(df_women.describe())\n",
        "\n",
        "numeric_cols = df_women.select_dtypes(include='number').columns\n",
        "if len(numeric_cols) > 1:\n",
        "    x_axis = st.selectbox(\"X axis\", numeric_cols)\n",
        "    y_axis = st.selectbox(\"Y axis\", numeric_cols, index=1)\n",
        "    fig = px.scatter(df_women, x=x_axis, y=y_axis)\n",
        "    st.plotly_chart(fig)\n",
        "else:\n",
        "    st.write(\"Not enough numeric columns to plot.\")\n",
        "\"\"\")\n",
        "\n",
        "# Threaded Streamlit runner\n",
        "def run():\n",
        "    os.system(\"streamlit run streamlit_app.py --server.port 8501 --server.enableCORS false --server.enableXsrfProtection false --browser.gatherUsageStats false\")\n",
        "\n",
        "thread = threading.Thread(target=run)\n",
        "thread.start()\n",
        "\n",
        "time.sleep(5)  # Wait for Streamlit to launch\n",
        "\n",
        "# Start ngrok tunnel and print URL\n",
        "public_url = ngrok.connect(8501).public_url\n",
        "print(f\"Streamlit app public URL: {public_url}\")"
      ],
      "metadata": {
        "colab": {
          "base_uri": "https://localhost:8080/"
        },
        "id": "z6IyqLk4IGEZ",
        "outputId": "c274de41-f750-4c9f-ef41-c984d57fd4bf"
      },
      "execution_count": 13,
      "outputs": [
        {
          "output_type": "stream",
          "name": "stdout",
          "text": [
            "Streamlit app public URL: https://e08f0f1f87fa.ngrok-free.app\n"
          ]
        }
      ]
    },
    {
      "cell_type": "markdown",
      "source": [
        "# Century/Region Pivot Table"
      ],
      "metadata": {
        "id": "_pUps619cNaN"
      }
    },
    {
      "cell_type": "code",
      "source": [
        "century_region_pivot = df.pivot_table(\n",
        "    index='Century', columns='Region', values='Name', aggfunc='count', fill_value=0\n",
        ")\n",
        "print(century_region_pivot)"
      ],
      "metadata": {
        "colab": {
          "base_uri": "https://localhost:8080/",
          "height": 193
        },
        "id": "-jirOonAcR34",
        "outputId": "962f18ae-65ae-4bd4-c28c-e6807b904a29"
      },
      "execution_count": 14,
      "outputs": [
        {
          "output_type": "error",
          "ename": "NameError",
          "evalue": "name 'df' is not defined",
          "traceback": [
            "\u001b[0;31m---------------------------------------------------------------------------\u001b[0m",
            "\u001b[0;31mNameError\u001b[0m                                 Traceback (most recent call last)",
            "\u001b[0;32m/tmp/ipython-input-14-1019338647.py\u001b[0m in \u001b[0;36m<cell line: 0>\u001b[0;34m()\u001b[0m\n\u001b[0;32m----> 1\u001b[0;31m century_region_pivot = df.pivot_table(\n\u001b[0m\u001b[1;32m      2\u001b[0m     \u001b[0mindex\u001b[0m\u001b[0;34m=\u001b[0m\u001b[0;34m'Century'\u001b[0m\u001b[0;34m,\u001b[0m \u001b[0mcolumns\u001b[0m\u001b[0;34m=\u001b[0m\u001b[0;34m'Region'\u001b[0m\u001b[0;34m,\u001b[0m \u001b[0mvalues\u001b[0m\u001b[0;34m=\u001b[0m\u001b[0;34m'Name'\u001b[0m\u001b[0;34m,\u001b[0m \u001b[0maggfunc\u001b[0m\u001b[0;34m=\u001b[0m\u001b[0;34m'count'\u001b[0m\u001b[0;34m,\u001b[0m \u001b[0mfill_value\u001b[0m\u001b[0;34m=\u001b[0m\u001b[0;36m0\u001b[0m\u001b[0;34m\u001b[0m\u001b[0;34m\u001b[0m\u001b[0m\n\u001b[1;32m      3\u001b[0m )\n\u001b[1;32m      4\u001b[0m \u001b[0mprint\u001b[0m\u001b[0;34m(\u001b[0m\u001b[0mcentury_region_pivot\u001b[0m\u001b[0;34m)\u001b[0m\u001b[0;34m\u001b[0m\u001b[0;34m\u001b[0m\u001b[0m\n",
            "\u001b[0;31mNameError\u001b[0m: name 'df' is not defined"
          ]
        }
      ]
    },
    {
      "cell_type": "code",
      "source": [
        "plt.figure(figsize=(12, 10))\n",
        "sns.heatmap(century_region_pivot, annot=True, cmap=\"berlin\")\n",
        "plt.title('Historical Figures by Century and Region')\n",
        "plt.ylabel('Century')\n",
        "plt.xlabel('Region')\n",
        "plt.show()"
      ],
      "metadata": {
        "id": "xT58iWVnc9Y7"
      },
      "execution_count": null,
      "outputs": []
    },
    {
      "cell_type": "code",
      "source": [
        "import numpy as np\n",
        "\n",
        "# Suppose your data is in a DataFrame called century_region_pivot\n",
        "century_region_pivot_na = century_region_pivot.replace(0, np.nan)\n",
        "\n",
        "# Now plot as before\n",
        "plt.figure(figsize=(12, 12))\n",
        "sns.heatmap(century_region_pivot_na, annot=True, cmap=\"Blues\",\n",
        "            mask=century_region_pivot_na.isnull(),  # ensures annot shows as blank for NaN\n",
        "            cbar=True)\n",
        "plt.title('Historical Figures by Century and Region')\n",
        "plt.ylabel('Century')\n",
        "plt.xlabel('Region')\n",
        "plt.show()"
      ],
      "metadata": {
        "id": "FQeTYOhgekvA"
      },
      "execution_count": null,
      "outputs": []
    },
    {
      "cell_type": "markdown",
      "source": [
        "## Stacked Bar Chart"
      ],
      "metadata": {
        "id": "nBXI1pKQftKs"
      }
    },
    {
      "cell_type": "code",
      "source": [
        "century_region_pivot.plot(\n",
        "    kind='bar', stacked=True, figsize=(10, 6),\n",
        "    title='Stacked Bar of Figures per Century by Region'\n",
        ")\n",
        "plt.ylabel('Number of Figures')\n",
        "plt.show()"
      ],
      "metadata": {
        "id": "S0K6oVxEfuyS"
      },
      "execution_count": null,
      "outputs": []
    },
    {
      "cell_type": "markdown",
      "source": [
        "## Grouped Bar Chart"
      ],
      "metadata": {
        "id": "Pfk__dtsgOnN"
      }
    },
    {
      "cell_type": "code",
      "source": [
        "century_region_pivot.T.plot(\n",
        "    kind='bar', figsize=(10, 15), title='Bar Chart by Region (Group by Century)'\n",
        ")\n",
        "plt.ylabel('Number of Figures')\n",
        "plt.xlabel('Region')\n",
        "plt.show()"
      ],
      "metadata": {
        "id": "RyFnwAVigTGB"
      },
      "execution_count": null,
      "outputs": []
    },
    {
      "cell_type": "markdown",
      "source": [
        "## Bubble Chart"
      ],
      "metadata": {
        "id": "MWEf9xgRgop5"
      }
    },
    {
      "cell_type": "code",
      "source": [
        "import plotly.express as px\n",
        "\n",
        "bubble_df = century_region_pivot.stack().reset_index()\n",
        "bubble_df.columns = ['Century', 'Region', 'Count']\n",
        "\n",
        "fig = px.scatter(\n",
        "    bubble_df, x=\"Region\", y=\"Century\", size=\"Count\",\n",
        "    color=\"Count\", title=\"Bubble Chart of Figures by Region and Century\",\n",
        "    size_max=40\n",
        ")\n",
        "fig.show()"
      ],
      "metadata": {
        "id": "VOgZumfIgp6_"
      },
      "execution_count": null,
      "outputs": []
    },
    {
      "cell_type": "markdown",
      "source": [
        "## Timeline"
      ],
      "metadata": {
        "id": "b3VgJovyg-YS"
      }
    },
    {
      "cell_type": "code",
      "source": [
        "import plotly.express as px\n",
        "\n",
        "# Must have 'Century' as string and 'Region' as categorical for best results\n",
        "melted = century_region_pivot.reset_index().melt(\n",
        "    id_vars='Century', var_name='Region', value_name='Count'\n",
        ")\n",
        "fig = px.density_heatmap(\n",
        "    melted, x=\"Region\", y=\"Century\", z=\"Count\", color_continuous_scale=\"Viridis\",\n",
        "    title=\"Timeline Heatmap: Number of Figures per Region and Century\"\n",
        ")\n",
        "fig.show()"
      ],
      "metadata": {
        "id": "_q5NXYA-g_ZY"
      },
      "execution_count": null,
      "outputs": []
    },
    {
      "cell_type": "markdown",
      "source": [
        "#  Economic Reform Analysis"
      ],
      "metadata": {
        "id": "UEktNW9wcs6r"
      }
    },
    {
      "cell_type": "markdown",
      "source": [
        "# Misunderstanding/Scandal GroupBy"
      ],
      "metadata": {
        "id": "NWhL33jMcvOQ"
      }
    },
    {
      "cell_type": "markdown",
      "source": [
        "#  Timeline Preparation"
      ],
      "metadata": {
        "id": "QROP-s4Nc0CW"
      }
    },
    {
      "cell_type": "markdown",
      "source": [
        "# Scientific/Political Contribution Thematic Grouping"
      ],
      "metadata": {
        "id": "F7T8HSxoc5RF"
      }
    },
    {
      "cell_type": "markdown",
      "source": [],
      "metadata": {
        "id": "7Esi625Sc8MN"
      }
    },
    {
      "cell_type": "code",
      "metadata": {
        "id": "0b067119"
      },
      "source": [
        "# Kill all ngrok processes\n",
        "!pkill -f ngrok"
      ],
      "execution_count": null,
      "outputs": []
    }
  ]
}